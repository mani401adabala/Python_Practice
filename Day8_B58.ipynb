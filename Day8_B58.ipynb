---Test--

{
 "cells": [
  {
   "cell_type": "code",
   "execution_count": null,
   "id": "563d87bc",
   "metadata": {},
   "outputs": [],
   "source": [
    "#Introduction to Dictionary Data Type\n",
    "\n",
    "#Defination : A Dictionary is a Combination of key -Value pairs.\n",
    "\n",
    "#Classification : It is classified as a mutable datatype\n",
    "\n",
    "#How to define the dictionary .....>?{}\n",
    "\n",
    "#In a shortform it is written as dict"
   ]
  },
  {
   "cell_type": "code",
   "execution_count": 1,
   "id": "b80f302d",
   "metadata": {},
   "outputs": [
    {
     "name": "stdout",
     "output_type": "stream",
     "text": [
      "{'Color': 'Green', 'Point': 5}\n"
     ]
    }
   ],
   "source": [
    "#Desiging an alien game...!\n",
    "\n",
    "alien = {'Color':'Green','Point':5}\n",
    "print(alien)"
   ]
  },
  {
   "cell_type": "code",
   "execution_count": 2,
   "id": "b2169641",
   "metadata": {},
   "outputs": [
    {
     "data": {
      "text/plain": [
       "dict"
      ]
     },
     "execution_count": 2,
     "metadata": {},
     "output_type": "execute_result"
    }
   ],
   "source": [
    "type(alien)"
   ]
  },
  {
   "cell_type": "code",
   "execution_count": 3,
   "id": "98118697",
   "metadata": {},
   "outputs": [
    {
     "name": "stdout",
     "output_type": "stream",
     "text": [
      "Green\n"
     ]
    }
   ],
   "source": [
    "#How to access the elements in the dict....?\n",
    "\n",
    "print(alien['Color'])"
   ]
  },
  {
   "cell_type": "code",
   "execution_count": 4,
   "id": "79133d7a",
   "metadata": {},
   "outputs": [
    {
     "name": "stdout",
     "output_type": "stream",
     "text": [
      "{'Color': 'Green', 'Point': 5}\n"
     ]
    }
   ],
   "source": [
    "#Note :give the key and get the value\n",
    "\n",
    "#In a dict keys will be acting as an indexes\n",
    "\n",
    "print(alien)"
   ]
  },
  {
   "cell_type": "code",
   "execution_count": 6,
   "id": "3084deb7",
   "metadata": {},
   "outputs": [
    {
     "name": "stdout",
     "output_type": "stream",
     "text": [
      "Green\n"
     ]
    }
   ],
   "source": [
    "print(alien['Color'])"
   ]
  },
  {
   "cell_type": "code",
   "execution_count": 7,
   "id": "5a050b20",
   "metadata": {},
   "outputs": [
    {
     "name": "stdout",
     "output_type": "stream",
     "text": [
      "5\n"
     ]
    }
   ],
   "source": [
    "print(alien['Point'])"
   ]
  },
  {
   "cell_type": "code",
   "execution_count": 8,
   "id": "b337d79f",
   "metadata": {},
   "outputs": [
    {
     "ename": "KeyError",
     "evalue": "'Green'",
     "output_type": "error",
     "traceback": [
      "\u001b[1;31m---------------------------------------------------------------------------\u001b[0m",
      "\u001b[1;31mKeyError\u001b[0m                                  Traceback (most recent call last)",
      "\u001b[1;32m~\\AppData\\Local\\Temp/ipykernel_8092/2086768432.py\u001b[0m in \u001b[0;36m<module>\u001b[1;34m\u001b[0m\n\u001b[1;32m----> 1\u001b[1;33m \u001b[0mprint\u001b[0m\u001b[1;33m(\u001b[0m\u001b[0malien\u001b[0m\u001b[1;33m[\u001b[0m\u001b[1;34m'Green'\u001b[0m\u001b[1;33m]\u001b[0m\u001b[1;33m)\u001b[0m\u001b[1;33m\u001b[0m\u001b[1;33m\u001b[0m\u001b[0m\n\u001b[0m",
      "\u001b[1;31mKeyError\u001b[0m: 'Green'"
     ]
    }
   ],
   "source": [
    "print(alien['Green'])"
   ]
  },
  {
   "cell_type": "code",
   "execution_count": 9,
   "id": "6a245fc5",
   "metadata": {},
   "outputs": [
    {
     "name": "stdout",
     "output_type": "stream",
     "text": [
      "{'Color': 'Green', 'Point': 5, 'Start_Position': 0}\n"
     ]
    }
   ],
   "source": [
    "#How to add new key values to the dictionary\n",
    "\n",
    "#Req : I want to add start position...?\n",
    "\n",
    "alien['Start_Position']=0\n",
    "\n",
    "print(alien)"
   ]
  },
  {
   "cell_type": "code",
   "execution_count": 15,
   "id": "312908cb",
   "metadata": {},
   "outputs": [],
   "source": [
    "#Facebook :==> Create New user account in Facebook..?\n",
    "\n",
    "useraccount ={'username':'codetrainingacademy','first_name':'Manikoteswararao','Last_name':'Adabala','DOB':'01-01-2000',\n",
    "              'pwd':2345}"
   ]
  },
  {
   "cell_type": "code",
   "execution_count": 16,
   "id": "0d5e7440",
   "metadata": {},
   "outputs": [
    {
     "name": "stdout",
     "output_type": "stream",
     "text": [
      "{'username': 'codetrainingacademy', 'first_name': 'Manikoteswararao', 'Last_name': 'Adabala', 'DOB': '01-01-2000', 'pwd': 2345}\n"
     ]
    }
   ],
   "source": [
    "print(useraccount)"
   ]
  },
  {
   "cell_type": "code",
   "execution_count": 17,
   "id": "69dd9e96",
   "metadata": {},
   "outputs": [
    {
     "data": {
      "text/plain": [
       "dict"
      ]
     },
     "execution_count": 17,
     "metadata": {},
     "output_type": "execute_result"
    }
   ],
   "source": [
    "type(useraccount)"
   ]
  },
  {
   "cell_type": "code",
   "execution_count": 18,
   "id": "b5989527",
   "metadata": {},
   "outputs": [],
   "source": [
    "#Req:update status :Dinner===>Hyderabad_CAFE\n",
    "\n",
    "useraccount['Dinner'] = 'Hyderabad_CAFE'"
   ]
  },
  {
   "cell_type": "code",
   "execution_count": 19,
   "id": "ca61ee80",
   "metadata": {},
   "outputs": [
    {
     "name": "stdout",
     "output_type": "stream",
     "text": [
      "{'username': 'codetrainingacademy', 'first_name': 'Manikoteswararao', 'Last_name': 'Adabala', 'DOB': '01-01-2000', 'pwd': 2345, 'Dinner': 'Hyderabad_CAFE'}\n"
     ]
    }
   ],
   "source": [
    "print(useraccount)"
   ]
  },
  {
   "cell_type": "code",
   "execution_count": 20,
   "id": "61615172",
   "metadata": {},
   "outputs": [
    {
     "name": "stdout",
     "output_type": "stream",
     "text": [
      "{'Color': 'Green', 'Point': 5, 'Start_Position': 0}\n"
     ]
    }
   ],
   "source": [
    "#How to modify the value in a dictionary...!\n",
    "\n",
    "print(alien)"
   ]
  },
  {
   "cell_type": "code",
   "execution_count": 21,
   "id": "7926dcb9",
   "metadata": {},
   "outputs": [],
   "source": [
    "#update Green to Yellow"
   ]
  },
  {
   "cell_type": "code",
   "execution_count": 22,
   "id": "c0a4edfc",
   "metadata": {},
   "outputs": [],
   "source": [
    "alien['Color'] = 'Yellow'"
   ]
  },
  {
   "cell_type": "code",
   "execution_count": 23,
   "id": "65536a67",
   "metadata": {},
   "outputs": [
    {
     "name": "stdout",
     "output_type": "stream",
     "text": [
      "{'Color': 'Yellow', 'Point': 5, 'Start_Position': 0}\n"
     ]
    }
   ],
   "source": [
    "print(alien)"
   ]
  },
  {
   "cell_type": "code",
   "execution_count": 25,
   "id": "fb0ee2df",
   "metadata": {},
   "outputs": [
    {
     "name": "stdout",
     "output_type": "stream",
     "text": [
      "{'username': 'codetrainingacademy', 'first_name': 'Manikoteswararao', 'Last_name': 'Adabala', 'DOB': '01-01-2000', 'pwd': 54321, 'Dinner': 'Hyderabad_CAFE'}\n"
     ]
    }
   ],
   "source": [
    "useraccount['pwd']=54321\n",
    "\n",
    "print(useraccount)"
   ]
  },
  {
   "cell_type": "code",
   "execution_count": 26,
   "id": "a06a01a2",
   "metadata": {},
   "outputs": [
    {
     "name": "stdout",
     "output_type": "stream",
     "text": [
      "{'Color': 'Yellow', 'Point': 5, 'Start_Position': 0}\n"
     ]
    }
   ],
   "source": [
    "#How  to delete the key value pairs in a dict...?\n",
    "\n",
    "print(alien)"
   ]
  },
  {
   "cell_type": "code",
   "execution_count": 27,
   "id": "e8d46bf0",
   "metadata": {},
   "outputs": [],
   "source": [
    "#req : delete the points...\n",
    "\n",
    "del alien['Point']"
   ]
  },
  {
   "cell_type": "code",
   "execution_count": 28,
   "id": "eb3def24",
   "metadata": {},
   "outputs": [
    {
     "name": "stdout",
     "output_type": "stream",
     "text": [
      "{'Color': 'Yellow', 'Start_Position': 0}\n"
     ]
    }
   ],
   "source": [
    "print(alien)"
   ]
  },
  {
   "cell_type": "code",
   "execution_count": null,
   "id": "46ca2cd2",
   "metadata": {},
   "outputs": [],
   "source": []
  }
 ],
 "metadata": {
  "kernelspec": {
   "display_name": "Python 3 (ipykernel)",
   "language": "python",
   "name": "python3"
  },
  "language_info": {
   "codemirror_mode": {
    "name": "ipython",
    "version": 3
   },
   "file_extension": ".py",
   "mimetype": "text/x-python",
   "name": "python",
   "nbconvert_exporter": "python",
   "pygments_lexer": "ipython3",
   "version": "3.9.7"
  }
 },
 "nbformat": 4,
 "nbformat_minor": 5
}
