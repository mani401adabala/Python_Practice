{
 "cells": [
  {
   "cell_type": "code",
   "execution_count": 1,
   "id": "2720e350",
   "metadata": {},
   "outputs": [
    {
     "name": "stdout",
     "output_type": "stream",
     "text": [
      "['Naveen', 'Abdual', 'Imran', 'Joseph', 'Keerthi', 'Shaheen', 'Dolly', 'Navya']\n"
     ]
    }
   ],
   "source": [
    "#Introduction to LIST datatype:\n",
    "\n",
    "#Defination:A List is a collection of items declared in a particular order\n",
    "\n",
    "#Classfication: It is a classified as a mutable datatype\n",
    "\n",
    "# How to define/Declare a list ......?===>[]\n",
    "\n",
    "students=['Naveen','Abdual','Imran','Joseph','Keerthi','Shaheen','Dolly','Navya']\n",
    "print(students);"
   ]
  },
  {
   "cell_type": "code",
   "execution_count": 2,
   "id": "8f4e6ef5",
   "metadata": {},
   "outputs": [
    {
     "data": {
      "text/plain": [
       "list"
      ]
     },
     "execution_count": 2,
     "metadata": {},
     "output_type": "execute_result"
    }
   ],
   "source": [
    "type(students)"
   ]
  },
  {
   "cell_type": "code",
   "execution_count": 13,
   "id": "4ad2793f",
   "metadata": {},
   "outputs": [
    {
     "name": "stdout",
     "output_type": "stream",
     "text": [
      "Abdual\n"
     ]
    }
   ],
   "source": [
    "# 1.How to access the above elements in the list...?\n",
    "\n",
    "#req :I want to access  'Abdual' from the above list,How to do that...?\n",
    "\n",
    "#Introduction to Indexing :0,1,2,3,4,5,...\n",
    "\n",
    "print(students[1])"
   ]
  },
  {
   "cell_type": "code",
   "execution_count": 15,
   "id": "1bbef3b4",
   "metadata": {},
   "outputs": [
    {
     "name": "stdout",
     "output_type": "stream",
     "text": [
      "Keerthi\n"
     ]
    }
   ],
   "source": [
    "#req : I want to access 'Keerthi' from above list...?\n",
    "\n",
    "print(students[4])"
   ]
  },
  {
   "cell_type": "code",
   "execution_count": 16,
   "id": "8441005a",
   "metadata": {},
   "outputs": [
    {
     "name": "stdout",
     "output_type": "stream",
     "text": [
      "['Naveen', 'Abdual', 'Imran', 'Joseph', 'Keerthi', 'Shaheen', 'Dolly', 'Navya', 'Kumar']\n"
     ]
    }
   ],
   "source": [
    "# 1. How to add new element  to the list\n",
    "# 2. How to modify the element in the list\n",
    "# 3. How to delete the element from the list\n",
    "\n",
    "#Req: I want to add 'Kumar' Name to the above list......?\n",
    "\n",
    "students.append('Kumar')\n",
    "print(students)\n"
   ]
  },
  {
   "cell_type": "code",
   "execution_count": 17,
   "id": "2885487d",
   "metadata": {},
   "outputs": [
    {
     "name": "stdout",
     "output_type": "stream",
     "text": [
      "['Naveen', 'Abdual', 'Imran', 'Joseph', 'Keerthi', 'Shaheen', 'Dolly', 'Navya', 'Kumar', 'Sana']\n"
     ]
    }
   ],
   "source": [
    "#Req : I want to add 'SANA' name to the above list...?\n",
    "\n",
    "students.append('Sana')\n",
    "print(students)"
   ]
  },
  {
   "cell_type": "code",
   "execution_count": 19,
   "id": "2dae4038",
   "metadata": {},
   "outputs": [
    {
     "name": "stdout",
     "output_type": "stream",
     "text": [
      "['Naveen', 'Abdual', 'Yamini', 'Imran', 'Joseph', 'Keerthi', 'Shaheen', 'Dolly', 'Navya', 'Kumar', 'Sana']\n"
     ]
    }
   ],
   "source": [
    "#req : I want to add Yamini to the above list in the 2nd position...?\n",
    "\n",
    "students.insert(2,'Yamini')\n",
    "\n",
    "print(students)"
   ]
  },
  {
   "cell_type": "code",
   "execution_count": 21,
   "id": "09ba51ba",
   "metadata": {},
   "outputs": [],
   "source": [
    "#Interview Question :\n",
    "\n",
    "#What is the difference between Append and Insert method in the list..?\n",
    "\n",
    "#Append :Using Append function in python to add the element ,Need to pass single argument,\n",
    "#It is stored last postion in the list and Increased the index\n",
    "\n",
    "#Insert : Using Insert function need to pass two arguments one is position of index and second one is value\n",
    "\n",
    "\n",
    "\n"
   ]
  },
  {
   "cell_type": "code",
   "execution_count": 23,
   "id": "6f784fe9",
   "metadata": {},
   "outputs": [
    {
     "name": "stdout",
     "output_type": "stream",
     "text": [
      "Naveen\n"
     ]
    }
   ],
   "source": [
    "#req : I want to Modify 'Naveen' Name to Navaya....?\n",
    "\n",
    "print(students[0])"
   ]
  },
  {
   "cell_type": "code",
   "execution_count": 25,
   "id": "d7cadb4b",
   "metadata": {},
   "outputs": [
    {
     "name": "stdout",
     "output_type": "stream",
     "text": [
      "['Navya', 'Abdual', 'Yamini', 'Imran', 'Joseph', 'Keerthi', 'Shaheen', 'Dolly', 'Navya', 'Kumar', 'Sana']\n"
     ]
    }
   ],
   "source": [
    "students[0] = 'Navya'\n",
    "\n",
    "print(students)"
   ]
  },
  {
   "cell_type": "code",
   "execution_count": 27,
   "id": "76898ae2",
   "metadata": {},
   "outputs": [
    {
     "name": "stdout",
     "output_type": "stream",
     "text": [
      "['Navya', 'Abdual', 'Yamini', 'Imran', 'Keerthi', 'Shaheen', 'Dolly', 'Navya', 'Kumar', 'Sana']\n"
     ]
    }
   ],
   "source": [
    "#req : I want to delete 'Joseph' from the above list\n",
    "\n",
    "del students[4] #permanently deleting the things\n",
    "\n",
    "print(students)"
   ]
  },
  {
   "cell_type": "code",
   "execution_count": 28,
   "id": "672aca26",
   "metadata": {},
   "outputs": [
    {
     "name": "stdout",
     "output_type": "stream",
     "text": [
      "<built-in method pop of list object at 0x0000021BF99CCD80>\n"
     ]
    }
   ],
   "source": [
    "#Req: Temp Deletion\n",
    "\n",
    "#Python list method pop() removes and returns last object or obj from the list.\n",
    "\n",
    "print(students.pop)"
   ]
  },
  {
   "cell_type": "code",
   "execution_count": 29,
   "id": "6b0186a9",
   "metadata": {},
   "outputs": [
    {
     "name": "stdout",
     "output_type": "stream",
     "text": [
      "Sana\n"
     ]
    }
   ],
   "source": [
    "print(students.pop())"
   ]
  },
  {
   "cell_type": "code",
   "execution_count": 31,
   "id": "e8f1a441",
   "metadata": {},
   "outputs": [
    {
     "name": "stdout",
     "output_type": "stream",
     "text": [
      "Kumar\n"
     ]
    }
   ],
   "source": [
    "print(students.pop())"
   ]
  },
  {
   "cell_type": "code",
   "execution_count": 32,
   "id": "05777505",
   "metadata": {},
   "outputs": [
    {
     "name": "stdout",
     "output_type": "stream",
     "text": [
      "['Navya', 'Abdual', 'Yamini', 'Imran', 'Keerthi', 'Shaheen', 'Dolly', 'Navya']\n"
     ]
    }
   ],
   "source": [
    "print(students)"
   ]
  },
  {
   "cell_type": "code",
   "execution_count": 34,
   "id": "82f2f837",
   "metadata": {},
   "outputs": [],
   "source": [
    "# Interview Question \n",
    "\n",
    "#Difference between Delete and POP"
   ]
  },
  {
   "cell_type": "code",
   "execution_count": 35,
   "id": "07531bac",
   "metadata": {},
   "outputs": [],
   "source": [
    "# Delete  : Delete clause is used to delete the record permenantly..\n",
    "\n",
    "#POP : POP() clause is used to delete the record and show that which record is deleted"
   ]
  },
  {
   "cell_type": "code",
   "execution_count": null,
   "id": "41bdb4ed",
   "metadata": {},
   "outputs": [],
   "source": []
  }
 ],
 "metadata": {
  "kernelspec": {
   "display_name": "Python 3 (ipykernel)",
   "language": "python",
   "name": "python3"
  },
  "language_info": {
   "codemirror_mode": {
    "name": "ipython",
    "version": 3
   },
   "file_extension": ".py",
   "mimetype": "text/x-python",
   "name": "python",
   "nbconvert_exporter": "python",
   "pygments_lexer": "ipython3",
   "version": "3.9.7"
  }
 },
 "nbformat": 4,
 "nbformat_minor": 5
}
