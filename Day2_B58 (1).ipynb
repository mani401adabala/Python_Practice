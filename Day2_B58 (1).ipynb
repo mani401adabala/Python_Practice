{
 "cells": [
  {
   "cell_type": "code",
   "execution_count": null,
   "id": "9ec76f7c",
   "metadata": {},
   "outputs": [],
   "source": [
    "a = 5\n",
    "b = 6"
   ]
  },
  {
   "cell_type": "code",
   "execution_count": 1,
   "id": "25b6198e",
   "metadata": {},
   "outputs": [
    {
     "ename": "NameError",
     "evalue": "name 'a' is not defined",
     "output_type": "error",
     "traceback": [
      "\u001b[1;31m---------------------------------------------------------------------------\u001b[0m",
      "\u001b[1;31mNameError\u001b[0m                                 Traceback (most recent call last)",
      "\u001b[1;32m~\\AppData\\Local\\Temp/ipykernel_3744/3499301971.py\u001b[0m in \u001b[0;36m<module>\u001b[1;34m\u001b[0m\n\u001b[1;32m----> 1\u001b[1;33m \u001b[0mc\u001b[0m\u001b[1;33m=\u001b[0m\u001b[0ma\u001b[0m\u001b[1;33m+\u001b[0m\u001b[0mb\u001b[0m\u001b[1;33m\u001b[0m\u001b[1;33m\u001b[0m\u001b[0m\n\u001b[0m",
      "\u001b[1;31mNameError\u001b[0m: name 'a' is not defined"
     ]
    }
   ],
   "source": [
    "c=a+b"
   ]
  },
  {
   "cell_type": "code",
   "execution_count": 2,
   "id": "cc4b76cd",
   "metadata": {},
   "outputs": [],
   "source": [
    "a = 5;"
   ]
  },
  {
   "cell_type": "code",
   "execution_count": 3,
   "id": "8ab8ac37",
   "metadata": {},
   "outputs": [],
   "source": [
    "b = 6;"
   ]
  },
  {
   "cell_type": "code",
   "execution_count": 4,
   "id": "e097eccc",
   "metadata": {},
   "outputs": [],
   "source": [
    "c = a+b;"
   ]
  },
  {
   "cell_type": "code",
   "execution_count": 5,
   "id": "edb02af1",
   "metadata": {},
   "outputs": [
    {
     "name": "stdout",
     "output_type": "stream",
     "text": [
      "11\n"
     ]
    }
   ],
   "source": [
    "print(c)"
   ]
  },
  {
   "cell_type": "code",
   "execution_count": 6,
   "id": "dd6d9d57",
   "metadata": {},
   "outputs": [],
   "source": [
    "a+b;"
   ]
  },
  {
   "cell_type": "code",
   "execution_count": 7,
   "id": "a4ab0b61",
   "metadata": {},
   "outputs": [
    {
     "name": "stdout",
     "output_type": "stream",
     "text": [
      "11\n"
     ]
    }
   ],
   "source": [
    "print(a+b)\n"
   ]
  },
  {
   "cell_type": "code",
   "execution_count": 8,
   "id": "3b284f60",
   "metadata": {},
   "outputs": [
    {
     "ename": "SyntaxError",
     "evalue": "invalid syntax (Temp/ipykernel_3744/1895445701.py, line 1)",
     "output_type": "error",
     "traceback": [
      "\u001b[1;36m  File \u001b[1;32m\"C:\\Users\\INDIAN\\AppData\\Local\\Temp/ipykernel_3744/1895445701.py\"\u001b[1;36m, line \u001b[1;32m1\u001b[0m\n\u001b[1;33m    Rules for declaration variable in python\u001b[0m\n\u001b[1;37m          ^\u001b[0m\n\u001b[1;31mSyntaxError\u001b[0m\u001b[1;31m:\u001b[0m invalid syntax\n"
     ]
    }
   ],
   "source": [
    "Rules for declaration variable in python\n",
    "-----------------------------------------\n",
    "Rule NO : 1\n",
    "    Variable should not contain any namespaces"
   ]
  },
  {
   "cell_type": "code",
   "execution_count": 9,
   "id": "32756e5a",
   "metadata": {},
   "outputs": [
    {
     "ename": "SyntaxError",
     "evalue": "invalid syntax (Temp/ipykernel_3744/771350800.py, line 1)",
     "output_type": "error",
     "traceback": [
      "\u001b[1;36m  File \u001b[1;32m\"C:\\Users\\INDIAN\\AppData\\Local\\Temp/ipykernel_3744/771350800.py\"\u001b[1;36m, line \u001b[1;32m1\u001b[0m\n\u001b[1;33m    First Name = 'ManikoteswaraRao'\u001b[0m\n\u001b[1;37m          ^\u001b[0m\n\u001b[1;31mSyntaxError\u001b[0m\u001b[1;31m:\u001b[0m invalid syntax\n"
     ]
    }
   ],
   "source": [
    "First Name = 'ManikoteswaraRao'"
   ]
  },
  {
   "cell_type": "code",
   "execution_count": 10,
   "id": "54a78b3c",
   "metadata": {},
   "outputs": [
    {
     "ename": "SyntaxError",
     "evalue": "invalid syntax (Temp/ipykernel_3744/722492282.py, line 1)",
     "output_type": "error",
     "traceback": [
      "\u001b[1;36m  File \u001b[1;32m\"C:\\Users\\INDIAN\\AppData\\Local\\Temp/ipykernel_3744/722492282.py\"\u001b[1;36m, line \u001b[1;32m1\u001b[0m\n\u001b[1;33m    print(First Name)\u001b[0m\n\u001b[1;37m                ^\u001b[0m\n\u001b[1;31mSyntaxError\u001b[0m\u001b[1;31m:\u001b[0m invalid syntax\n"
     ]
    }
   ],
   "source": [
    "print(First Name)"
   ]
  },
  {
   "cell_type": "code",
   "execution_count": null,
   "id": "c922393d",
   "metadata": {},
   "outputs": [],
   "source": [
    "Rule NO:2\n",
    "    A Variable should not start with a number"
   ]
  },
  {
   "cell_type": "code",
   "execution_count": 11,
   "id": "3dc080c1",
   "metadata": {},
   "outputs": [
    {
     "ename": "SyntaxError",
     "evalue": "invalid syntax (Temp/ipykernel_3744/1001241320.py, line 1)",
     "output_type": "error",
     "traceback": [
      "\u001b[1;36m  File \u001b[1;32m\"C:\\Users\\INDIAN\\AppData\\Local\\Temp/ipykernel_3744/1001241320.py\"\u001b[1;36m, line \u001b[1;32m1\u001b[0m\n\u001b[1;33m    1Name = 'Mahesh'\u001b[0m\n\u001b[1;37m     ^\u001b[0m\n\u001b[1;31mSyntaxError\u001b[0m\u001b[1;31m:\u001b[0m invalid syntax\n"
     ]
    }
   ],
   "source": [
    "1Name = 'Mahesh'\n",
    "print(1Name)"
   ]
  },
  {
   "cell_type": "code",
   "execution_count": null,
   "id": "eb59d5f9",
   "metadata": {},
   "outputs": [],
   "source": [
    "Rule NO:3\n",
    "    A Variable should not contain any spicial character"
   ]
  },
  {
   "cell_type": "code",
   "execution_count": 12,
   "id": "382b082a",
   "metadata": {},
   "outputs": [
    {
     "ename": "SyntaxError",
     "evalue": "invalid syntax (Temp/ipykernel_3744/3438175750.py, line 1)",
     "output_type": "error",
     "traceback": [
      "\u001b[1;36m  File \u001b[1;32m\"C:\\Users\\INDIAN\\AppData\\Local\\Temp/ipykernel_3744/3438175750.py\"\u001b[1;36m, line \u001b[1;32m1\u001b[0m\n\u001b[1;33m    name@ = 'Josph'\u001b[0m\n\u001b[1;37m          ^\u001b[0m\n\u001b[1;31mSyntaxError\u001b[0m\u001b[1;31m:\u001b[0m invalid syntax\n"
     ]
    }
   ],
   "source": [
    "name@ = 'Josph'\n",
    "print(name@)"
   ]
  },
  {
   "cell_type": "code",
   "execution_count": null,
   "id": "3aae5e73",
   "metadata": {},
   "outputs": [],
   "source": [
    "Introduction to datatype in Python:\n",
    "    1.sting --->str\n",
    "    2.Number--->integer(int) and float(decimal)\n",
    "    3.list--->list\n",
    "    4.tuple--->tuple\n",
    "    5.Dictionaries--->dict"
   ]
  },
  {
   "cell_type": "code",
   "execution_count": null,
   "id": "f35ea6c6",
   "metadata": {},
   "outputs": [],
   "source": [
    "Classification of datatypes:\n",
    "    Data type are brodly classfied into two categories:\n",
    "        1 Mutable datatype --->which we can edit (or) alter--->Flexable\n",
    "        2 Immutable datatype--->which we cannot edit (or) alter-->fixed"
   ]
  },
  {
   "cell_type": "code",
   "execution_count": null,
   "id": "bb225a55",
   "metadata": {},
   "outputs": [],
   "source": [
    "Introduction to string datatype :\n",
    "    Defination : A sting is series of character declare in quates\n",
    "        Classification : it is classfied as an Immutable datatype (Fixed data type)\n",
    "            \n",
    "            How to declare the string datatype :\n",
    "                3 Possiable option for declaring the string\n",
    "                \n",
    "                1.Single Quote\n",
    "                2.Double Quote\n",
    "                3.Triple Quote"
   ]
  },
  {
   "cell_type": "code",
   "execution_count": 14,
   "id": "26e31506",
   "metadata": {},
   "outputs": [
    {
     "ename": "NameError",
     "evalue": "name 'Print' is not defined",
     "output_type": "error",
     "traceback": [
      "\u001b[1;31m---------------------------------------------------------------------------\u001b[0m",
      "\u001b[1;31mNameError\u001b[0m                                 Traceback (most recent call last)",
      "\u001b[1;32m~\\AppData\\Local\\Temp/ipykernel_3744/3433440818.py\u001b[0m in \u001b[0;36m<module>\u001b[1;34m\u001b[0m\n\u001b[0;32m      1\u001b[0m \u001b[0mName\u001b[0m \u001b[1;33m=\u001b[0m \u001b[1;34m'Swathi'\u001b[0m\u001b[1;33m;\u001b[0m\u001b[1;33m\u001b[0m\u001b[1;33m\u001b[0m\u001b[0m\n\u001b[1;32m----> 2\u001b[1;33m \u001b[0mPrint\u001b[0m\u001b[1;33m(\u001b[0m\u001b[0mName\u001b[0m\u001b[1;33m)\u001b[0m\u001b[1;33m\u001b[0m\u001b[1;33m\u001b[0m\u001b[0m\n\u001b[0m",
      "\u001b[1;31mNameError\u001b[0m: name 'Print' is not defined"
     ]
    }
   ],
   "source": [
    "Name = 'Swathi';\n",
    "Print(Name)"
   ]
  },
  {
   "cell_type": "markdown",
   "id": "62638d9e",
   "metadata": {},
   "source": []
  },
  {
   "cell_type": "code",
   "execution_count": 15,
   "id": "594ae626",
   "metadata": {},
   "outputs": [],
   "source": [
    "name = 'Swathi';"
   ]
  },
  {
   "cell_type": "code",
   "execution_count": 16,
   "id": "f07c2edf",
   "metadata": {},
   "outputs": [
    {
     "name": "stdout",
     "output_type": "stream",
     "text": [
      "Swathi\n"
     ]
    }
   ],
   "source": [
    "print(name)"
   ]
  },
  {
   "cell_type": "code",
   "execution_count": 19,
   "id": "36ad797b",
   "metadata": {},
   "outputs": [],
   "source": [
    "Name2 = \"abdul\";"
   ]
  },
  {
   "cell_type": "code",
   "execution_count": 20,
   "id": "02b96cc8",
   "metadata": {},
   "outputs": [
    {
     "name": "stdout",
     "output_type": "stream",
     "text": [
      "abdul\n"
     ]
    }
   ],
   "source": [
    "print(Name2)"
   ]
  },
  {
   "cell_type": "code",
   "execution_count": 21,
   "id": "34209cd8",
   "metadata": {},
   "outputs": [],
   "source": [
    "Name3 = \"\"\"John\"\"\""
   ]
  },
  {
   "cell_type": "code",
   "execution_count": 22,
   "id": "9a4eced9",
   "metadata": {},
   "outputs": [
    {
     "name": "stdout",
     "output_type": "stream",
     "text": [
      "John\n"
     ]
    }
   ],
   "source": [
    "print(Name3)"
   ]
  },
  {
   "cell_type": "code",
   "execution_count": 23,
   "id": "ca8e7113",
   "metadata": {},
   "outputs": [],
   "source": [
    "#Hash is used for commenting the code..!"
   ]
  },
  {
   "cell_type": "code",
   "execution_count": null,
   "id": "7169406e",
   "metadata": {},
   "outputs": [],
   "source": [
    "Introduction to string methods:\n",
    "    "
   ]
  },
  {
   "cell_type": "code",
   "execution_count": 24,
   "id": "c1fe8bd9",
   "metadata": {},
   "outputs": [
    {
     "data": {
      "text/plain": [
       "str"
      ]
     },
     "execution_count": 24,
     "metadata": {},
     "output_type": "execute_result"
    }
   ],
   "source": [
    "type(name)"
   ]
  },
  {
   "cell_type": "code",
   "execution_count": 25,
   "id": "08a81510",
   "metadata": {},
   "outputs": [
    {
     "data": {
      "text/plain": [
       "str"
      ]
     },
     "execution_count": 25,
     "metadata": {},
     "output_type": "execute_result"
    }
   ],
   "source": [
    "type(Name3)"
   ]
  },
  {
   "cell_type": "code",
   "execution_count": 26,
   "id": "a90be4d2",
   "metadata": {},
   "outputs": [
    {
     "data": {
      "text/plain": [
       "str"
      ]
     },
     "execution_count": 26,
     "metadata": {},
     "output_type": "execute_result"
    }
   ],
   "source": [
    "type(Name2)"
   ]
  },
  {
   "cell_type": "code",
   "execution_count": null,
   "id": "9e52ad0a",
   "metadata": {},
   "outputs": [],
   "source": []
  }
 ],
 "metadata": {
  "kernelspec": {
   "display_name": "Python 3 (ipykernel)",
   "language": "python",
   "name": "python3"
  },
  "language_info": {
   "codemirror_mode": {
    "name": "ipython",
    "version": 3
   },
   "file_extension": ".py",
   "mimetype": "text/x-python",
   "name": "python",
   "nbconvert_exporter": "python",
   "pygments_lexer": "ipython3",
   "version": "3.9.7"
  }
 },
 "nbformat": 4,
 "nbformat_minor": 5
}
