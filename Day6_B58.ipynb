{
 "cells": [
  {
   "cell_type": "code",
   "execution_count": 1,
   "id": "82a821e4",
   "metadata": {},
   "outputs": [
    {
     "name": "stdout",
     "output_type": "stream",
     "text": [
      "['Kumar', 'Naveen', 'Vinay', 'samreen', 'naveed', 'sohai']\n"
     ]
    }
   ],
   "source": [
    "#Introduction to looping statements:\n",
    "\n",
    "# Understanding the concept of for loop:\n",
    "\n",
    "students = ['Kumar','Naveen','Vinay','samreen','naveed','sohai']\n",
    "\n",
    "print(students)\n",
    "\n"
   ]
  },
  {
   "cell_type": "code",
   "execution_count": 2,
   "id": "576160f5",
   "metadata": {},
   "outputs": [
    {
     "name": "stdout",
     "output_type": "stream",
     "text": [
      "Keep up the good work,Kumar \n"
     ]
    }
   ],
   "source": [
    "#1st Approach\n",
    "\n",
    "message = f\"Keep up the good work,{students[0]} \"\n",
    "\n",
    "print(message)"
   ]
  },
  {
   "cell_type": "code",
   "execution_count": 3,
   "id": "a0d0bfd6",
   "metadata": {},
   "outputs": [
    {
     "name": "stdout",
     "output_type": "stream",
     "text": [
      "Keep up the good work,Naveen\n"
     ]
    }
   ],
   "source": [
    "message = f\"Keep up the good work,{students[1]}\"\n",
    "\n",
    "print(message)"
   ]
  },
  {
   "cell_type": "code",
   "execution_count": 4,
   "id": "96acbe43",
   "metadata": {},
   "outputs": [
    {
     "name": "stdout",
     "output_type": "stream",
     "text": [
      "Keep up the good work,Samreen\n"
     ]
    }
   ],
   "source": [
    "message = f\"Keep up the good work,{students[3].title()}\"\n",
    "print(message)"
   ]
  },
  {
   "cell_type": "code",
   "execution_count": 5,
   "id": "e00175aa",
   "metadata": {},
   "outputs": [
    {
     "name": "stdout",
     "output_type": "stream",
     "text": [
      "Keep up the good work,SAMREEN\n"
     ]
    }
   ],
   "source": [
    "message = f\"Keep up the good work,{students[3].upper()}\"\n",
    "print(message)"
   ]
  },
  {
   "cell_type": "code",
   "execution_count": 6,
   "id": "55b79317",
   "metadata": {},
   "outputs": [
    {
     "name": "stdout",
     "output_type": "stream",
     "text": [
      "Kumar\n",
      "Naveen\n",
      "Vinay\n",
      "samreen\n",
      "naveed\n",
      "sohai\n"
     ]
    }
   ],
   "source": [
    "#General syntax of the for loop :\n",
    "\n",
    "for tempvar in students:\n",
    "    print(tempvar)"
   ]
  },
  {
   "cell_type": "code",
   "execution_count": 7,
   "id": "0e7a2fe0",
   "metadata": {},
   "outputs": [
    {
     "name": "stdout",
     "output_type": "stream",
     "text": [
      "Kumar\n",
      "Naveen\n",
      "Vinay\n",
      "Samreen\n",
      "Naveed\n",
      "Sohai\n"
     ]
    }
   ],
   "source": [
    "for ironman in students:\n",
    "    print(ironman.title())"
   ]
  },
  {
   "cell_type": "code",
   "execution_count": 8,
   "id": "342eecf6",
   "metadata": {},
   "outputs": [],
   "source": [
    "#Enhancement of the code"
   ]
  },
  {
   "cell_type": "code",
   "execution_count": 9,
   "id": "7b18ddf9",
   "metadata": {},
   "outputs": [
    {
     "name": "stdout",
     "output_type": "stream",
     "text": [
      "keep up the good work ,Kumar\n",
      "keep up the good work ,Naveen\n",
      "keep up the good work ,Vinay\n",
      "keep up the good work ,Samreen\n",
      "keep up the good work ,Naveed\n",
      "keep up the good work ,Sohai\n"
     ]
    }
   ],
   "source": [
    "for x in students:\n",
    "    print(f\"keep up the good work ,{x.title()}\")"
   ]
  },
  {
   "cell_type": "code",
   "execution_count": 15,
   "id": "9703d946",
   "metadata": {},
   "outputs": [
    {
     "name": "stdout",
     "output_type": "stream",
     "text": [
      "keep up the good work ,Kumar\n",
      "I will be looking forword to recive you github url of today,Kumar\n",
      "\n",
      "Thank you all of your for joining in the python training session\n",
      "keep up the good work ,Naveen\n",
      "I will be looking forword to recive you github url of today,Naveen\n",
      "\n",
      "Thank you all of your for joining in the python training session\n",
      "keep up the good work ,Vinay\n",
      "I will be looking forword to recive you github url of today,Vinay\n",
      "\n",
      "Thank you all of your for joining in the python training session\n",
      "keep up the good work ,Samreen\n",
      "I will be looking forword to recive you github url of today,Samreen\n",
      "\n",
      "Thank you all of your for joining in the python training session\n",
      "keep up the good work ,Naveed\n",
      "I will be looking forword to recive you github url of today,Naveed\n",
      "\n",
      "Thank you all of your for joining in the python training session\n",
      "keep up the good work ,Sohai\n",
      "I will be looking forword to recive you github url of today,Sohai\n",
      "\n",
      "Thank you all of your for joining in the python training session\n"
     ]
    }
   ],
   "source": [
    "for x in students:\n",
    "    print(f\"keep up the good work ,{x.title()}\")\n",
    "    print(f\"I will be looking forword to recive you github url of today,{x.title()}\\n\")\n",
    "    print(\"Thank you all of your for joining in the python training session\")"
   ]
  },
  {
   "cell_type": "code",
   "execution_count": 16,
   "id": "97714114",
   "metadata": {},
   "outputs": [],
   "source": [
    "#Indentation Error:"
   ]
  },
  {
   "cell_type": "code",
   "execution_count": 22,
   "id": "d7fc9b2e",
   "metadata": {},
   "outputs": [
    {
     "ename": "IndentationError",
     "evalue": "expected an indented block (Temp/ipykernel_10656/2928418730.py, line 2)",
     "output_type": "error",
     "traceback": [
      "\u001b[1;36m  File \u001b[1;32m\"C:\\Users\\INDIAN\\AppData\\Local\\Temp/ipykernel_10656/2928418730.py\"\u001b[1;36m, line \u001b[1;32m2\u001b[0m\n\u001b[1;33m    print(x)\u001b[0m\n\u001b[1;37m    ^\u001b[0m\n\u001b[1;31mIndentationError\u001b[0m\u001b[1;31m:\u001b[0m expected an indented block\n"
     ]
    }
   ],
   "source": [
    "for x in students:\n",
    "print(x)"
   ]
  },
  {
   "cell_type": "code",
   "execution_count": 23,
   "id": "6f4e84b8",
   "metadata": {},
   "outputs": [
    {
     "name": "stdout",
     "output_type": "stream",
     "text": [
      "Kumar\n",
      "Naveen\n",
      "Vinay\n",
      "samreen\n",
      "naveed\n",
      "sohai\n"
     ]
    }
   ],
   "source": [
    "for x in students:\n",
    "    print(x)"
   ]
  },
  {
   "cell_type": "code",
   "execution_count": null,
   "id": "f40a55a1",
   "metadata": {},
   "outputs": [],
   "source": []
  }
 ],
 "metadata": {
  "kernelspec": {
   "display_name": "Python 3 (ipykernel)",
   "language": "python",
   "name": "python3"
  },
  "language_info": {
   "codemirror_mode": {
    "name": "ipython",
    "version": 3
   },
   "file_extension": ".py",
   "mimetype": "text/x-python",
   "name": "python",
   "nbconvert_exporter": "python",
   "pygments_lexer": "ipython3",
   "version": "3.9.7"
  }
 },
 "nbformat": 4,
 "nbformat_minor": 5
}
