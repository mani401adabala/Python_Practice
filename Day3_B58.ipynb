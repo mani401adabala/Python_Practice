{
 "cells": [
  {
   "cell_type": "code",
   "execution_count": 1,
   "id": "cc349e24",
   "metadata": {},
   "outputs": [
    {
     "name": "stdout",
     "output_type": "stream",
     "text": [
      "pawan kalyan\n"
     ]
    }
   ],
   "source": [
    "#Continuation with String\n",
    "\n",
    "Full_Name = 'pawan kalyan'\n",
    "print(Full_Name)"
   ]
  },
  {
   "cell_type": "code",
   "execution_count": 2,
   "id": "165ab248",
   "metadata": {},
   "outputs": [
    {
     "name": "stdout",
     "output_type": "stream",
     "text": [
      "Pawan Kalyan\n"
     ]
    }
   ],
   "source": [
    "print(Full_Name.title())"
   ]
  },
  {
   "cell_type": "code",
   "execution_count": 3,
   "id": "545e448f",
   "metadata": {},
   "outputs": [
    {
     "name": "stdout",
     "output_type": "stream",
     "text": [
      "PAWAN KALYAN\n"
     ]
    }
   ],
   "source": [
    "print(Full_Name.upper())"
   ]
  },
  {
   "cell_type": "code",
   "execution_count": 4,
   "id": "3615f659",
   "metadata": {},
   "outputs": [
    {
     "name": "stdout",
     "output_type": "stream",
     "text": [
      "pawan kalyan\n"
     ]
    }
   ],
   "source": [
    "print(Full_Name.lower())"
   ]
  },
  {
   "cell_type": "code",
   "execution_count": 9,
   "id": "40b5f09d",
   "metadata": {},
   "outputs": [
    {
     "name": "stdout",
     "output_type": "stream",
     "text": [
      "Pawan Kalyan  Konidela\n"
     ]
    }
   ],
   "source": [
    "#Introduction to f_string\n",
    "\n",
    "#f\"Custome_word{Placeholder1}{Placeholder2}...{Placeholdern}\"\n",
    "\n",
    "First_Name = 'Pawan Kalyan  '\n",
    "Last_Name = 'Konidela'\n",
    "\n",
    "# Reg:I want to get the Full Name...?\n",
    "\n",
    "Full_Name = f\"{First_Name}{Last_Name}\"\n",
    "print(Full_Name)"
   ]
  },
  {
   "cell_type": "code",
   "execution_count": 11,
   "id": "e48871be",
   "metadata": {},
   "outputs": [
    {
     "name": "stdout",
     "output_type": "stream",
     "text": [
      "Keep up the good workPawan Kalyan  Konidela\n"
     ]
    }
   ],
   "source": [
    "Message = f\"Keep up the good work{Full_Name}\"\n",
    "\n",
    "print(Message)"
   ]
  },
  {
   "cell_type": "code",
   "execution_count": 12,
   "id": "25855eb3",
   "metadata": {},
   "outputs": [
    {
     "name": "stdout",
     "output_type": "stream",
     "text": [
      "Keep up the good workPAWAN KALYAN  KONIDELA\n"
     ]
    }
   ],
   "source": [
    "Message = f\"Keep up the good work{Full_Name.upper()}\"\n",
    "\n",
    "print(Message)"
   ]
  },
  {
   "cell_type": "code",
   "execution_count": 14,
   "id": "a5130ff4",
   "metadata": {},
   "outputs": [
    {
     "name": "stdout",
     "output_type": "stream",
     "text": [
      "Favourite_Language:PythonC++JavaSwiftJavascript\n"
     ]
    }
   ],
   "source": [
    "#Adding Whitespaces to String\n",
    "\n",
    "print(\"Favourite_Language:PythonC++JavaSwiftJavascript\")"
   ]
  },
  {
   "cell_type": "code",
   "execution_count": 15,
   "id": "e6900fc4",
   "metadata": {},
   "outputs": [
    {
     "name": "stdout",
     "output_type": "stream",
     "text": [
      "Favourite_Language:\n",
      "Python\n",
      "C++\n",
      "Java\n",
      "Swift\n",
      "Javascript\n"
     ]
    }
   ],
   "source": [
    "print(\"Favourite_Language:\\nPython\\nC++\\nJava\\nSwift\\nJavascript\")"
   ]
  },
  {
   "cell_type": "code",
   "execution_count": 16,
   "id": "e686e765",
   "metadata": {},
   "outputs": [
    {
     "name": "stdout",
     "output_type": "stream",
     "text": [
      "Favourite_Language:\n",
      "\tPython\n",
      "\tC++\n",
      "\tJava\n",
      "\tSwift\n",
      "\tJavascript\n"
     ]
    }
   ],
   "source": [
    "print(\"Favourite_Language:\\n\\tPython\\n\\tC++\\n\\tJava\\n\\tSwift\\n\\tJavascript\")"
   ]
  },
  {
   "cell_type": "code",
   "execution_count": 18,
   "id": "1389030f",
   "metadata": {},
   "outputs": [
    {
     "name": "stdout",
     "output_type": "stream",
     "text": [
      "Python\n"
     ]
    }
   ],
   "source": [
    "#Removing White Spaces from text\n",
    "name = 'Python'\n",
    "print(name)"
   ]
  },
  {
   "cell_type": "code",
   "execution_count": 20,
   "id": "a643ce7d",
   "metadata": {},
   "outputs": [
    {
     "name": "stdout",
     "output_type": "stream",
     "text": [
      " Java\n"
     ]
    }
   ],
   "source": [
    "name2 = ' Java'\n",
    "print(name2)"
   ]
  },
  {
   "cell_type": "markdown",
   "id": "b19805ee",
   "metadata": {},
   "source": []
  },
  {
   "cell_type": "code",
   "execution_count": 21,
   "id": "60c81fe4",
   "metadata": {},
   "outputs": [
    {
     "name": "stdout",
     "output_type": "stream",
     "text": [
      "C++  \n"
     ]
    }
   ],
   "source": [
    "name3 = 'C++  '\n",
    "print(name3)"
   ]
  },
  {
   "cell_type": "code",
   "execution_count": 22,
   "id": "f4075514",
   "metadata": {},
   "outputs": [
    {
     "name": "stdout",
     "output_type": "stream",
     "text": [
      "Java\n"
     ]
    }
   ],
   "source": [
    "print(name2.lstrip())"
   ]
  },
  {
   "cell_type": "code",
   "execution_count": 23,
   "id": "d31e829e",
   "metadata": {},
   "outputs": [
    {
     "name": "stdout",
     "output_type": "stream",
     "text": [
      "C++\n"
     ]
    }
   ],
   "source": [
    "print(name3.rstrip())"
   ]
  },
  {
   "cell_type": "code",
   "execution_count": null,
   "id": "61c239ae",
   "metadata": {},
   "outputs": [],
   "source": []
  }
 ],
 "metadata": {
  "kernelspec": {
   "display_name": "Python 3 (ipykernel)",
   "language": "python",
   "name": "python3"
  },
  "language_info": {
   "codemirror_mode": {
    "name": "ipython",
    "version": 3
   },
   "file_extension": ".py",
   "mimetype": "text/x-python",
   "name": "python",
   "nbconvert_exporter": "python",
   "pygments_lexer": "ipython3",
   "version": "3.9.7"
  }
 },
 "nbformat": 4,
 "nbformat_minor": 5
}
