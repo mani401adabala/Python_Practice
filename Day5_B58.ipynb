{
 "cells": [
  {
   "cell_type": "code",
   "execution_count": 2,
   "id": "4331e359",
   "metadata": {},
   "outputs": [
    {
     "name": "stdout",
     "output_type": "stream",
     "text": [
      "['Kia', 'Suziki', 'Audi', 'Benz', 'Tata', 'BMW']\n"
     ]
    }
   ],
   "source": [
    "#continuation with list data type\n",
    "\n",
    "#Organising the list Data Type\n",
    "\n",
    "Cars = ['Kia','Suziki','Audi','Benz','Tata','BMW']\n",
    "print(Cars)"
   ]
  },
  {
   "cell_type": "code",
   "execution_count": 5,
   "id": "fe19fd1c",
   "metadata": {},
   "outputs": [
    {
     "name": "stdout",
     "output_type": "stream",
     "text": [
      "['Audi', 'BMW', 'Benz', 'Kia', 'Suziki', 'Tata']\n"
     ]
    }
   ],
   "source": [
    "#req : I want to display the list in the alphabetical Order ...? A-Z\n",
    "\n",
    "#1.Temp Approach ==>Changes are applied temp ==>sorted\n",
    "#2. Permanent Approach ===>Changes are applied Permanantly ==>Sort\n",
    "\n",
    "#1.Temp Approach Example\n",
    "\n",
    "print(sorted(Cars))"
   ]
  },
  {
   "cell_type": "code",
   "execution_count": 6,
   "id": "2ad61301",
   "metadata": {},
   "outputs": [
    {
     "name": "stdout",
     "output_type": "stream",
     "text": [
      "['Kia', 'Suziki', 'Audi', 'Benz', 'Tata', 'BMW']\n"
     ]
    }
   ],
   "source": [
    "print(Cars) #it is getting me the Original Order..."
   ]
  },
  {
   "cell_type": "code",
   "execution_count": 7,
   "id": "0f3f9cb3",
   "metadata": {},
   "outputs": [
    {
     "name": "stdout",
     "output_type": "stream",
     "text": [
      "['Audi', 'BMW', 'Benz', 'Kia', 'Suziki', 'Tata']\n"
     ]
    }
   ],
   "source": [
    "#Permanent Approach\n",
    "\n",
    "Cars.sort() # the changes are applied permanently\n",
    "print(Cars)"
   ]
  },
  {
   "cell_type": "code",
   "execution_count": 8,
   "id": "c1824c61",
   "metadata": {},
   "outputs": [],
   "source": [
    "#Interviews What is the different b/w sorted and sort methods in a list data type?Can you please explain "
   ]
  },
  {
   "cell_type": "code",
   "execution_count": 9,
   "id": "2c7a30c4",
   "metadata": {},
   "outputs": [],
   "source": [
    "#sorted Method : It is temporarly sorted and it is not impact on original list data\n",
    "#sort Method :It is Permanatly sorted and it is reorder in list data permanatly"
   ]
  },
  {
   "cell_type": "code",
   "execution_count": 16,
   "id": "03be80f2",
   "metadata": {},
   "outputs": [
    {
     "name": "stdout",
     "output_type": "stream",
     "text": [
      "['Tata', 'Suziki', 'Kia', 'Benz', 'BMW', 'Audi']\n"
     ]
    }
   ],
   "source": [
    "#Req: I want to print the list in the reverse order...?\n",
    "\n",
    "Cars.reverse()\n",
    "print(Cars)\n"
   ]
  },
  {
   "cell_type": "code",
   "execution_count": 15,
   "id": "4812c96d",
   "metadata": {},
   "outputs": [
    {
     "data": {
      "text/plain": [
       "6"
      ]
     },
     "execution_count": 15,
     "metadata": {},
     "output_type": "execute_result"
    }
   ],
   "source": [
    "#req : I want to count the number of elements in the list....\n",
    "\n",
    "len(Cars)\n"
   ]
  },
  {
   "cell_type": "code",
   "execution_count": 18,
   "id": "382c6349",
   "metadata": {},
   "outputs": [
    {
     "name": "stdout",
     "output_type": "stream",
     "text": [
      "['Ravi', 'Geetha', 'Naveed', 'Imran', 'Keerthi', 'Shaheen', 'Dolly', 'Roohi']\n"
     ]
    }
   ],
   "source": [
    "#Introduction to concept of slicing :\n",
    "\n",
    "Students = ['Ravi','Geetha','Naveed','Imran','Keerthi','Shaheen','Dolly','Roohi']\n",
    "print(Students)"
   ]
  },
  {
   "cell_type": "code",
   "execution_count": 19,
   "id": "69760cfe",
   "metadata": {},
   "outputs": [
    {
     "data": {
      "text/plain": [
       "list"
      ]
     },
     "execution_count": 19,
     "metadata": {},
     "output_type": "execute_result"
    }
   ],
   "source": [
    "type(Students)"
   ]
  },
  {
   "cell_type": "code",
   "execution_count": 20,
   "id": "ad548b96",
   "metadata": {},
   "outputs": [],
   "source": [
    "#General Syntax of Slicing :"
   ]
  },
  {
   "cell_type": "code",
   "execution_count": 21,
   "id": "d2fd3395",
   "metadata": {},
   "outputs": [
    {
     "name": "stdout",
     "output_type": "stream",
     "text": [
      "['Ravi', 'Geetha']\n"
     ]
    }
   ],
   "source": [
    "#list[start value :stop value :stepcount]\n",
    "\n",
    "#Note :Stop value is always exclusive to include the stop value have ti increase the index by +1\n",
    "\n",
    "#req : I want to include ravi and Geetha in the list.\n",
    "\n",
    "print(Students[0:2])"
   ]
  },
  {
   "cell_type": "code",
   "execution_count": 23,
   "id": "a793315a",
   "metadata": {},
   "outputs": [
    {
     "name": "stdout",
     "output_type": "stream",
     "text": [
      "['Naveed', 'Imran']\n"
     ]
    }
   ],
   "source": [
    "#req :Naveed and Imran\n",
    "\n",
    "print(Students[2:4])"
   ]
  },
  {
   "cell_type": "code",
   "execution_count": 24,
   "id": "a41be0c2",
   "metadata": {},
   "outputs": [
    {
     "name": "stdout",
     "output_type": "stream",
     "text": [
      "['Dolly', 'Roohi']\n"
     ]
    }
   ],
   "source": [
    "#req Dolly and Roohi\n",
    "\n",
    "print(Students[6:8])"
   ]
  },
  {
   "cell_type": "code",
   "execution_count": 25,
   "id": "32feacf5",
   "metadata": {},
   "outputs": [
    {
     "name": "stdout",
     "output_type": "stream",
     "text": [
      "['Imran']\n"
     ]
    }
   ],
   "source": [
    "print(Students[3:4])"
   ]
  },
  {
   "cell_type": "code",
   "execution_count": 27,
   "id": "a5bae0ff",
   "metadata": {},
   "outputs": [
    {
     "name": "stdout",
     "output_type": "stream",
     "text": [
      "['Shaheen']\n"
     ]
    }
   ],
   "source": [
    "print(Students[5:6])"
   ]
  },
  {
   "cell_type": "code",
   "execution_count": 28,
   "id": "2806f252",
   "metadata": {},
   "outputs": [
    {
     "name": "stdout",
     "output_type": "stream",
     "text": [
      "['Shaheen', 'Dolly']\n"
     ]
    }
   ],
   "source": [
    "print(Students[5:7])"
   ]
  },
  {
   "cell_type": "code",
   "execution_count": 29,
   "id": "296e145e",
   "metadata": {},
   "outputs": [
    {
     "name": "stdout",
     "output_type": "stream",
     "text": [
      "['Shaheen', 'Dolly', 'Roohi']\n"
     ]
    }
   ],
   "source": [
    "print(Students[5:8])"
   ]
  },
  {
   "cell_type": "code",
   "execution_count": null,
   "id": "677e4efa",
   "metadata": {},
   "outputs": [],
   "source": []
  }
 ],
 "metadata": {
  "kernelspec": {
   "display_name": "Python 3 (ipykernel)",
   "language": "python",
   "name": "python3"
  },
  "language_info": {
   "codemirror_mode": {
    "name": "ipython",
    "version": 3
   },
   "file_extension": ".py",
   "mimetype": "text/x-python",
   "name": "python",
   "nbconvert_exporter": "python",
   "pygments_lexer": "ipython3",
   "version": "3.9.7"
  }
 },
 "nbformat": 4,
 "nbformat_minor": 5
}
